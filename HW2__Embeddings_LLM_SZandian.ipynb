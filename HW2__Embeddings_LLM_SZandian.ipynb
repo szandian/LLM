{
  "cells": [
    {
      "cell_type": "markdown",
      "id": "ef160bf7-f9f0-41fe-98c9-e074f670de84",
      "metadata": {
        "id": "ef160bf7-f9f0-41fe-98c9-e074f670de84"
      },
      "source": [
        "# GloVe: Global Vectors for Word Representation\n",
        "https://nlp.stanford.edu/projects/glove/"
      ]
    },
    {
      "cell_type": "code",
      "execution_count": 1,
      "id": "0943435a-2abb-42e6-a307-4ba949da146b",
      "metadata": {
        "id": "0943435a-2abb-42e6-a307-4ba949da146b",
        "outputId": "04417c6c-7974-4837-f7cc-feb78785a50f",
        "colab": {
          "base_uri": "https://localhost:8080/"
        }
      },
      "outputs": [
        {
          "output_type": "stream",
          "name": "stdout",
          "text": [
            "2.6.0+cu124\n"
          ]
        }
      ],
      "source": [
        "import torch\n",
        "print(torch.__version__)"
      ]
    },
    {
      "cell_type": "code",
      "execution_count": 3,
      "id": "9dcbf45a-7162-442a-9dd2-e6d403e01801",
      "metadata": {
        "id": "9dcbf45a-7162-442a-9dd2-e6d403e01801"
      },
      "outputs": [],
      "source": [
        "import torch.nn.functional as F"
      ]
    },
    {
      "cell_type": "code",
      "execution_count": 4,
      "id": "d94a9e71-7baf-4fa9-8b31-34320dc16120",
      "metadata": {
        "id": "d94a9e71-7baf-4fa9-8b31-34320dc16120"
      },
      "outputs": [],
      "source": [
        "import numpy as np"
      ]
    },
    {
      "cell_type": "code",
      "source": [
        "\n",
        "import matplotlib.pyplot as plt\n",
        "from sklearn.decomposition import PCA\n"
      ],
      "metadata": {
        "id": "VR1DkFTrxiv8"
      },
      "id": "VR1DkFTrxiv8",
      "execution_count": 5,
      "outputs": []
    },
    {
      "cell_type": "markdown",
      "source": [
        "Part 1: Load and Explore GloVe Embeddings\n",
        "- Use the `load_glove_dict()` function to load the `glove.6B.50d.txt` file.\n",
        "- Pick at least 10 diverse words (animals, professions, objects, etc.) to inspect manually."
      ],
      "metadata": {
        "id": "Kt9cj_Ld14hD"
      },
      "id": "Kt9cj_Ld14hD"
    },
    {
      "cell_type": "code",
      "execution_count": 6,
      "id": "b2ff372d-3af2-437a-b0c6-a386958a72c6",
      "metadata": {
        "colab": {
          "base_uri": "https://localhost:8080/"
        },
        "id": "b2ff372d-3af2-437a-b0c6-a386958a72c6",
        "outputId": "1cf1eed4-703f-4cc5-d2f3-1ba12e1c8d05"
      },
      "outputs": [
        {
          "output_type": "stream",
          "name": "stdout",
          "text": [
            "elephant   → array([ 0.53238, -0.26987, -0.72294, -0.45325,  1.0188 ], dtype=float32) …\n",
            "lion       → array([ 0.60093 ,  0.012934, -0.61032 , -0.13871 ,  1.2507  ],\n",
            "      dtype=float32) …\n",
            "tiger      → array([ 0.33183 , -0.60256 , -0.046032,  0.89941 ,  0.26504 ],\n",
            "      dtype=float32) …\n",
            "dragon     → array([ 0.35483,  0.6063 , -0.36617,  0.44974,  0.66047], dtype=float32) …\n",
            "whale      → array([ 0.65195, -0.34838, -0.70091, -0.41587,  0.49596], dtype=float32) …\n",
            "penguin    → array([ 0.26809,  0.19536, -0.85239,  0.17078,  0.49344], dtype=float32) …\n",
            "robot      → array([ 1.0585 , -0.79141,  0.5161 ,  0.39199,  0.43303], dtype=float32) …\n",
            "computer   → array([ 0.079084, -0.81504 ,  1.7901  ,  0.91653 ,  0.10797 ],\n",
            "      dtype=float32) …\n",
            "laptop     → array([ 0.59754, -0.21225,  2.1719 ,  0.15673,  0.38409], dtype=float32) …\n",
            "keyboard   → array([-0.015074, -0.4293  ,  0.29098 ,  0.088303, -0.26671 ],\n",
            "      dtype=float32) …\n",
            "violin     → array([-0.36514,  0.75847, -1.3658 , -0.59809, -0.20187], dtype=float32) …\n",
            "guitar     → array([-1.334  ,  0.18695, -0.62053, -0.27708, -0.80285], dtype=float32) …\n",
            "piano      → array([-0.66558,  0.73434, -1.2203 , -0.82844, -0.15093], dtype=float32) …\n",
            "chef       → array([-0.12078,  0.59621, -1.4258 ,  0.16769,  0.69497], dtype=float32) …\n",
            "surgeon    → array([ 0.31462  ,  0.0044402, -0.80809  , -0.78141  ,  0.22986  ],\n",
            "      dtype=float32) …\n",
            "pilot      → array([ 0.71591, -0.1823 ,  0.59495, -0.10324, -0.17107], dtype=float32) …\n",
            "teacher    → array([-0.94921,  0.98376, -0.57502, -1.3822 ,  0.78417], dtype=float32) …\n",
            "astronaut  → array([0.70548, 0.89998, 0.86932, 0.25747, 0.25858], dtype=float32) …\n",
            "scientist  → array([-0.1574  ,  0.60965 ,  0.33007 ,  0.099683,  0.48562 ],\n",
            "      dtype=float32) …\n",
            "plumber    → array([-0.75342 , -0.1719  ,  0.68753 , -1.0441  ,  0.059783],\n",
            "      dtype=float32) …\n",
            "justice    → array([-0.37481, -0.60223, -0.62033,  0.16502,  1.3382 ], dtype=float32) …\n",
            "freedom    → array([-0.75489,  0.27814, -0.11302, -0.37057,  0.57873], dtype=float32) …\n",
            "happiness  → array([ 0.039495,  1.5316  , -0.39992 , -0.20091 ,  1.3784  ],\n",
            "      dtype=float32) …\n",
            "anger      → array([-0.044806,  0.24917 ,  0.088818, -0.7982  ,  0.15031 ],\n",
            "      dtype=float32) …\n",
            "love       → array([-0.13886,  1.1401 , -0.85212, -0.29212,  0.75534], dtype=float32) …\n",
            "fear       → array([ 0.53661 , -0.33872 ,  0.28772 , -0.72584 , -0.041209],\n",
            "      dtype=float32) …\n",
            "courage    → array([-0.17302,  0.83972, -0.26274, -0.92193,  1.2179 ], dtype=float32) …\n",
            "trust      → array([ 0.25246 ,  0.55785 , -0.026123,  0.12421 ,  0.82237 ],\n",
            "      dtype=float32) …\n",
            "truth      → array([ 0.26273 ,  0.36559 , -0.32112 , -0.070719,  1.3342  ],\n",
            "      dtype=float32) …\n",
            "peace      → array([ 0.57799,  0.99986, -0.53279, -0.50667,  0.78591], dtype=float32) …\n",
            "volcano    → array([ 1.7101 ,  0.61994,  0.53048, -0.46302, -0.86008], dtype=float32) …\n",
            "earthquake → array([ 1.5208 , -0.27971,  0.84536,  0.47431, -0.35396], dtype=float32) …\n",
            "tornado    → array([ 0.40251, -0.64083,  1.0953 ,  0.31115, -1.0811 ], dtype=float32) …\n",
            "rain       → array([-0.20254,  0.21883, -0.15896,  0.51721, -1.7501 ], dtype=float32) …\n",
            "snow       → array([-0.044719,  1.3575  ,  0.42372 ,  0.083063, -1.2115  ],\n",
            "      dtype=float32) …\n",
            "desert     → array([ 0.63755,  0.53934, -0.49114,  0.59511, -0.53494], dtype=float32) …\n",
            "ocean      → array([ 1.2625 ,  0.61209, -0.37197,  0.61768, -0.69512], dtype=float32) …\n",
            "island     → array([ 1.4738  ,  0.097269, -0.87687 ,  0.95299 , -0.17249 ],\n",
            "      dtype=float32) …\n",
            "mountain   → array([ 0.44469,  1.7411 ,  0.24895,  0.30172, -0.60967], dtype=float32) …\n",
            "valley     → array([ 0.48326 ,  1.0276  ,  0.061365, -0.076601, -1.185   ],\n",
            "      dtype=float32) …\n",
            "apple      → array([ 0.52042, -0.8314 ,  0.49961,  1.2893 ,  0.1151 ], dtype=float32) …\n",
            "banana     → array([-0.25522, -0.75249, -0.86655,  1.1197 ,  0.12887], dtype=float32) …\n",
            "pizza      → array([ 0.62143, -0.49645, -0.69599,  0.19473,  1.0616 ], dtype=float32) …\n",
            "bread      → array([-0.37436, -0.11959, -0.87609, -1.1217 ,  1.2788 ], dtype=float32) …\n",
            "cheese     → array([-0.053903, -0.30871 , -1.3285  , -0.43342 ,  0.31779 ],\n",
            "      dtype=float32) …\n",
            "car        → array([ 0.47685 , -0.084552,  1.4641  ,  0.047017,  0.14686 ],\n",
            "      dtype=float32) …\n",
            "bicycle    → array([-0.41716 ,  0.16271 ,  0.18208 ,  0.040874, -0.76743 ],\n",
            "      dtype=float32) …\n",
            "airplane   → array([ 1.2977 , -0.29922,  0.66154, -0.20133, -0.02502], dtype=float32) …\n",
            "train      → array([ 0.94971,  0.34328,  0.84504, -0.88519, -0.72078], dtype=float32) …\n",
            "boat       → array([ 0.96989 ,  0.075746,  0.157   , -0.10599 , -0.6147  ],\n",
            "      dtype=float32) …\n"
          ]
        }
      ],
      "source": [
        "# Load GloVe Embeddings into a Dictionary\n",
        "\n",
        "def load_glove_dict(glove_path):\n",
        "    glove_dict = {}\n",
        "    with open(glove_path, 'r', encoding='utf-8') as f:\n",
        "        for line in f:\n",
        "            tokens = line.strip().split()\n",
        "            word = tokens[0]\n",
        "            vector = np.array(tokens[1:], dtype=np.float32)\n",
        "            glove_dict[word] = vector\n",
        "    return glove_dict\n",
        "\n",
        "# Load the full GloVe file\n",
        "glove_path = \"glove.6B.50d.txt\"\n",
        "glove_dict = load_glove_dict(glove_path)\n",
        "\n",
        "# Inspect 10 diverse words (print first 5 dimensions)\n",
        "sample_words = [\n",
        "    \"elephant\", \"lion\", \"tiger\", \"dragon\", \"whale\", \"penguin\", \"robot\", \"computer\", \"laptop\", \"keyboard\",\n",
        "    \"violin\", \"guitar\", \"piano\", \"chef\", \"surgeon\", \"pilot\", \"teacher\", \"astronaut\", \"scientist\", \"plumber\",\n",
        "    \"justice\", \"freedom\", \"happiness\", \"anger\", \"love\", \"fear\", \"courage\", \"trust\", \"truth\", \"peace\",\n",
        "    \"volcano\", \"earthquake\", \"tornado\", \"rain\", \"snow\", \"desert\", \"ocean\", \"island\", \"mountain\", \"valley\",\n",
        "    \"apple\", \"banana\", \"pizza\", \"bread\", \"cheese\", \"car\", \"bicycle\", \"airplane\", \"train\", \"boat\"\n",
        "]\n",
        "\n",
        "for w in sample_words:\n",
        "    vec = glove_dict.get(w)\n",
        "    if vec is not None:\n",
        "        print(f\"{w:10s} → {vec[:5]!r} …\")\n",
        "    else:\n",
        "        print(f\"{w:10s} → NOT FOUND\")\n"
      ]
    },
    {
      "cell_type": "markdown",
      "source": [
        "Part 2: Embedding and Sentence Tensor Construction\n",
        "- Modify the code to input your own sentence (e.g., from a news headline).\n",
        "- Build a vocabulary and an embedding tensor for the sentence.\n",
        "- Print the resulting tensor and shape."
      ],
      "metadata": {
        "id": "yem4K8wm53Zu"
      },
      "id": "yem4K8wm53Zu"
    },
    {
      "cell_type": "code",
      "execution_count": 7,
      "id": "b9a885cf-fe75-47e7-aea3-397e1148d41d",
      "metadata": {
        "id": "b9a885cf-fe75-47e7-aea3-397e1148d41d",
        "colab": {
          "base_uri": "https://localhost:8080/"
        },
        "outputId": "77906406-95d9-4f2b-fa30-c351c6dd8165"
      },
      "outputs": [
        {
          "output_type": "stream",
          "name": "stdout",
          "text": [
            "Sentence: ['researchers', 'develop', 'novel', 'ai', 'model']\n",
            "Vocab  : ['researchers', 'develop', 'novel', 'ai', 'model']\n",
            "Input tensor shape: torch.Size([5, 50])\n"
          ]
        }
      ],
      "source": [
        "# Create an Embedding Matrix for Your Vocabulary\n",
        "\n",
        "def build_embedding_matrix(glove_dict, vocab, embedding_dim=50):\n",
        "    embedding_matrix = []\n",
        "    word_to_idx = {}\n",
        "\n",
        "    for idx, word in enumerate(vocab):\n",
        "        word_to_idx[word] = idx\n",
        "        vec = glove_dict.get(word)\n",
        "        if vec is not None:\n",
        "            embedding_matrix.append(vec)\n",
        "        else:\n",
        "            # Use a random vector if word is not in GloVe\n",
        "            embedding_matrix.append(np.random.randn(embedding_dim).astype(np.float32))\n",
        "\n",
        "    embedding_tensor = torch.tensor(np.stack(embedding_matrix))\n",
        "    return embedding_tensor, word_to_idx\n",
        "\n",
        "\n",
        "# Example sentence (replace with any headline)\n",
        "sentence = \"Researchers develop novel AI model\".lower().split()\n",
        "vocab = list(dict.fromkeys(sentence))  # preserves order, unique\n",
        "\n",
        "embedding_tensor, word_to_idx = build_embedding_matrix(glove_dict, vocab)\n",
        "input_indices = [word_to_idx[w] for w in sentence]\n",
        "input_tensor = embedding_tensor[input_indices]\n",
        "\n",
        "print(\"Sentence:\", sentence)\n",
        "print(\"Vocab  :\", vocab)\n",
        "print(\"Input tensor shape:\", input_tensor.shape)\n"
      ]
    },
    {
      "cell_type": "markdown",
      "source": [
        "Part 3: Word Similarity\n",
        "- Use the `cosine_similarity()` function to compute the similarity between:\n",
        "- (\"dog\", \"cat\")\n",
        "- (\"king\", \"queen\")\n",
        "- (\"apple\", \"banana\")\n",
        "- At least two of your own word pairs\n",
        "- Discuss your results briefly. Which pairs are more similar and why?"
      ],
      "metadata": {
        "id": "y41IACa_6FVr"
      },
      "id": "y41IACa_6FVr"
    },
    {
      "cell_type": "code",
      "execution_count": 8,
      "id": "1ccf8f1f-859b-4c47-aa71-94a2ce4760a9",
      "metadata": {
        "id": "1ccf8f1f-859b-4c47-aa71-94a2ce4760a9",
        "colab": {
          "base_uri": "https://localhost:8080/"
        },
        "outputId": "c77f08dd-2635-40ed-9e85-5a4e6107d022"
      },
      "outputs": [
        {
          "output_type": "stream",
          "name": "stdout",
          "text": [
            "sim(dog       , cat       ) = 0.9218\n",
            "sim(king      , queen     ) = 0.7839\n",
            "sim(apple     , banana    ) = 0.5608\n",
            "sim(science   , technology) = 0.7696\n",
            "sim(professor , doctor    ) = 0.5825\n"
          ]
        }
      ],
      "source": [
        "\n",
        "def cosine_similarity(vec1, vec2):\n",
        "    v1 = F.normalize(vec1, dim=0)\n",
        "    v2 = F.normalize(vec2, dim=0)\n",
        "    return torch.dot(v1, v2).item()\n",
        "\n",
        "# Required pairs plus two of your own\n",
        "pairs = [\n",
        "    (\"dog\", \"cat\"),\n",
        "    (\"king\", \"queen\"),\n",
        "    (\"apple\", \"banana\"),\n",
        "    (\"science\", \"technology\"),      # your own\n",
        "    (\"professor\", \"doctor\")         # your own\n",
        "]\n",
        "\n",
        "for w1, w2 in pairs:\n",
        "    v1 = torch.tensor(glove_dict[w1])\n",
        "    v2 = torch.tensor(glove_dict[w2])\n",
        "    sim = cosine_similarity(v1, v2)\n",
        "    print(f\"sim({w1:10s}, {w2:10s}) = {sim:.4f}\")\n"
      ]
    },
    {
      "cell_type": "code",
      "execution_count": 9,
      "id": "db0d9cd7-619e-4ced-b937-a28362c0cb57",
      "metadata": {
        "id": "db0d9cd7-619e-4ced-b937-a28362c0cb57",
        "outputId": "8c1ff287-fde7-42e3-a575-b01df649f6fd",
        "colab": {
          "base_uri": "https://localhost:8080/"
        }
      },
      "outputs": [
        {
          "output_type": "stream",
          "name": "stdout",
          "text": [
            "sim(dog, cat): 0.9218006134033203\n",
            "sim(dog, car): 0.46449822187423706\n"
          ]
        }
      ],
      "source": [
        "dog = glove_dict[\"dog\"]\n",
        "cat = glove_dict[\"cat\"]\n",
        "car = glove_dict[\"car\"]\n",
        "\n",
        "print(\"sim(dog, cat):\", cosine_similarity(torch.tensor(dog), torch.tensor(cat)))\n",
        "print(\"sim(dog, car):\", cosine_similarity(torch.tensor(dog), torch.tensor(car)))"
      ]
    },
    {
      "cell_type": "code",
      "execution_count": 10,
      "id": "1d1b8e60-e120-49d4-876c-672e580033d9",
      "metadata": {
        "id": "1d1b8e60-e120-49d4-876c-672e580033d9"
      },
      "outputs": [],
      "source": [
        "import matplotlib.pyplot as plt\n",
        "from sklearn.decomposition import PCA\n",
        "\n",
        "def plot_embeddings_2d(words, glove_dict):\n",
        "    vectors = [glove_dict[word] for word in words if word in glove_dict]\n",
        "    labels = [word for word in words if word in glove_dict]\n",
        "\n",
        "    pca = PCA(n_components=2)\n",
        "    reduced = pca.fit_transform(vectors)\n",
        "\n",
        "    plt.figure(figsize=(8, 6))\n",
        "    for i, word in enumerate(labels):\n",
        "        x, y = reduced[i]\n",
        "        plt.scatter(x, y)\n",
        "        plt.text(x + 0.01, y + 0.01, word, fontsize=12)\n",
        "    plt.title(\"Word Embeddings Visualized with PCA\")\n",
        "    plt.grid(True)\n",
        "    plt.show()\n"
      ]
    },
    {
      "cell_type": "markdown",
      "source": [
        "Part 4: Nearest Neighbors\n",
        "- Use the `find_nearest()` function to find top 5 similar words to:\n",
        "- \"science\"\n",
        "- \"car\"\n",
        "- \"nurse\"\n",
        "- One word of your own choice\n",
        "- Comment on what these neighbors reveal about the word's context in GloVe."
      ],
      "metadata": {
        "id": "wwkloY9K6bs5"
      },
      "id": "wwkloY9K6bs5"
    },
    {
      "cell_type": "code",
      "execution_count": 11,
      "id": "2f15be28-6bdb-47d6-ad1f-c58d8e1b5fc1",
      "metadata": {
        "id": "2f15be28-6bdb-47d6-ad1f-c58d8e1b5fc1",
        "colab": {
          "base_uri": "https://localhost:8080/"
        },
        "outputId": "3daaac30-29bf-4763-eb7f-c9ed6b45ef9e"
      },
      "outputs": [
        {
          "output_type": "stream",
          "name": "stdout",
          "text": [
            "\n",
            "Top-5 neighbors of 'science':\n",
            "  sciences     → 0.8548\n",
            "  research     → 0.8437\n",
            "  institute    → 0.8386\n",
            "  studies      → 0.8369\n",
            "  physics      → 0.8314\n",
            "\n",
            "Top-5 neighbors of 'car':\n",
            "  truck        → 0.9209\n",
            "  cars         → 0.8870\n",
            "  vehicle      → 0.8834\n",
            "  driver       → 0.8464\n",
            "  driving      → 0.8384\n",
            "\n",
            "Top-5 neighbors of 'nurse':\n",
            "  doctor       → 0.7977\n",
            "  nurses       → 0.7753\n",
            "  dentist      → 0.7731\n",
            "  pregnant     → 0.7462\n",
            "  pediatrician → 0.7452\n",
            "\n",
            "Top-5 neighbors of 'algorithm':\n",
            "  algorithms   → 0.8708\n",
            "  iterative    → 0.8089\n",
            "  optimization → 0.7956\n",
            "  compute      → 0.7943\n",
            "  computation  → 0.7913\n"
          ]
        }
      ],
      "source": [
        "def find_nearest(word, glove_dict, k=5):\n",
        "    if word not in glove_dict:\n",
        "        return []\n",
        "    q = F.normalize(torch.tensor(glove_dict[word]), dim=0)\n",
        "    sims = []\n",
        "    for other, vec in glove_dict.items():\n",
        "        if other == word: continue\n",
        "        sims.append((other, torch.dot(q, F.normalize(torch.tensor(vec), dim=0)).item()))\n",
        "    sims.sort(key=lambda x: x[1], reverse=True)\n",
        "    return sims[:k]\n",
        "\n",
        "targets = [\"science\", \"car\", \"nurse\", \"algorithm\"]  # last is your own choice\n",
        "for t in targets:\n",
        "    nbrs = find_nearest(t, glove_dict, k=5)\n",
        "    print(f\"\\nTop-5 neighbors of '{t}':\")\n",
        "    for w, score in nbrs:\n",
        "        print(f\"  {w:12s} → {score:.4f}\")\n"
      ]
    },
    {
      "cell_type": "markdown",
      "source": [
        "Part 5: Visualizing Embeddings\n",
        "- Use `plot_embeddings_2d()` to visualize at least 15–20 words.\n",
        "- Choose words that may show interesting patterns (e.g., [\"dog\", \"cat\", \"apple\", \"banana\",\n",
        "\"professor\", \"doctor\", \"nurse\", ...]).\n",
        "- Interpret the plot: do similar words cluster together?"
      ],
      "metadata": {
        "id": "Bp_Bditu6qwI"
      },
      "id": "Bp_Bditu6qwI"
    },
    {
      "cell_type": "code",
      "execution_count": 13,
      "id": "ef7b1fd9-25e5-4f0b-83c5-da4fc77c3b4a",
      "metadata": {
        "id": "ef7b1fd9-25e5-4f0b-83c5-da4fc77c3b4a",
        "colab": {
          "base_uri": "https://localhost:8080/",
          "height": 545
        },
        "outputId": "d701c2fb-b51c-4215-b67d-b9b9e6df9438"
      },
      "outputs": [
        {
          "output_type": "display_data",
          "data": {
            "text/plain": [
              "<Figure size 800x600 with 1 Axes>"
            ],
            "image/png": "[encoded data removed]"
          },
          "metadata": {}
        }
      ],
      "source": [
        "from sklearn.decomposition import PCA\n",
        "\n",
        "\n",
        "def plot_embeddings_2d(words, glove_dict):\n",
        "    vecs = [glove_dict[w] for w in words if w in glove_dict]\n",
        "    labels = [w for w in words if w in glove_dict]\n",
        "    coords = PCA(n_components=2).fit_transform(vecs)\n",
        "    plt.figure(figsize=(8,6))\n",
        "    for (x,y), lbl in zip(coords, labels):\n",
        "        plt.scatter(x, y)\n",
        "        plt.text(x+0.02, y+0.02, lbl)\n",
        "    plt.title(\"2D PCA of Selected Words\")\n",
        "    plt.grid(True)\n",
        "    plt.show()\n",
        "\n",
        "words_to_plot = [\n",
        "    \"dog\",\"cat\",\"apple\",\"banana\",\"professor\",\"doctor\",\"nurse\",\n",
        "    \"science\",\"car\",\"computer\",\"tree\",\"city\",\"algorithm\",\n",
        "    \"data\",\"python\",\"java\",\"biology\",\"chemistry\"\n",
        "]\n",
        "plot_embeddings_2d(words_to_plot, glove_dict)\n",
        "\n"
      ]
    },
    {
      "cell_type": "markdown",
      "source": [
        "**- What did you learn?**\n",
        "\n",
        "\n",
        "In this exercise I learned how word embeddings capture semantic relationships in text.\n",
        "\n",
        "\n",
        "**- What surprised you about word embeddings?**\n",
        "  \n",
        "I was surprised that analogies like “king – queen” are reflected in cosine-similarity and neighbor lists so cleanly.  \n",
        "Building an embedding tensor for a sentence was straightforward once the vocabulary-to-index mapping was in place.  \n",
        "Visualizing 2D projections via PCA showed distinct clusters (e.g., fruits vs. professions), which reinforced my intuition about distributional semantics.  \n",
        "Overall, GloVe embeddings provide a powerful yet interpretable way to represent words in downstream applications like classification or analogy tasks."
      ],
      "metadata": {
        "id": "LVrOi5MO7hrO"
      },
      "id": "LVrOi5MO7hrO"
    }
  ],
  "metadata": {
    "kernelspec": {
      "display_name": "GenAI",
      "language": "python",
      "name": "genai"
    },
    "language_info": {
      "codemirror_mode": {
        "name": "ipython",
        "version": 3
      },
      "file_extension": ".py",
      "mimetype": "text/x-python",
      "name": "python",
      "nbconvert_exporter": "python",
      "pygments_lexer": "ipython3",
      "version": "3.11.9"
    },
    "colab": {
      "provenance": []
    }
  },
  "nbformat": 4,
  "nbformat_minor": 5
}